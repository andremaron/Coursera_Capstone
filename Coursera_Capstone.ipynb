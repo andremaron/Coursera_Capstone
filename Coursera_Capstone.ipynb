{
    "cells": [
        {
            "cell_type": "markdown",
            "metadata": {
                "collapsed": true
            },
            "source": " ## CAPSTONE PROJECT\n This notebook will be used for the capstone project Applied Data Science. \n \n #### Project Title: Thai restaurant in Switzerland "
        },
        {
            "cell_type": "markdown",
            "metadata": {},
            "source": "----------------------------------------------------------------------------\n----------------------------------------------------------------------------\n### Introduction/Business Problem\n\nThe problem we are trying to solve: \n\n--> we want to open a new Thai restaurant in Switzerland once the Covid-19 crisis is over\n\n--> the new restaurant should be in a densely populated region with strong economic activity and relatively high income \n\n--> the new restaurant should not be too close to already existing/popular Thai restaurants \n\n--> so ultimately: where in Switzerland should we open the new superb Thai restaurant?\n\n"
        },
        {
            "attachments": {},
            "cell_type": "markdown",
            "metadata": {},
            "source": "----------------------------------------------------------------------------\n----------------------------------------------------------------------------\n### Data\n\nThe data (and their sources) required to answer the question: \n\n1) GDP per capita, from the Swiss Federal Office of Statistics:\nhttps://www.bfs.admin.ch/bfs/de/home/statistiken/volkswirtschaft/volkswirtschaftliche-gesamtrechnung/bruttoinlandprodukt-kanton.assetdetail.10647589.html\n\n2) Income per capita, from the Swiss Federal Office of Statistics:\nhttps://www.bfs.admin.ch/bfs/de/home/statistiken/wirtschaftliche-soziale-situation-bevoelkerung/einkommen-verbrauch-vermoegen/haushaltsbudget.assetdetail.10867286.html\n\n\n3) Also a file listing the most populous cities in Switzerland, with number of inhabitants per city, will be used. \nThis information can be obtained in this site: \nhttps://opendata.swiss/de/group/population\n\nThe following will be used with Python in order to support the project:\n\n4) Nominatim Geopy module to locate the coordinates of cities. \n5) Foursquare location data to identify already existing Thai restaurants in Switzerland.\n\n\nData manipulation will be required to identify possible cities to open the new restaurant, therefore first using (3) and (4) mentioned above.\nThen it will be necessary to combine data from (1) and (2) to pre-select most interesting regions for such project.\nFinally, we will have to exclude some cities from our scope by also using (5) to identify which existing venues would be a competition which we would like to avoid. \n\n\n\n\n\n----------------------------------------------------------------------------"
        },
        {
            "cell_type": "code",
            "execution_count": null,
            "metadata": {},
            "outputs": [],
            "source": ""
        }
    ],
    "metadata": {
        "kernelspec": {
            "display_name": "Python 3.6",
            "language": "python",
            "name": "python3"
        },
        "language_info": {
            "codemirror_mode": {
                "name": "ipython",
                "version": 3
            },
            "file_extension": ".py",
            "mimetype": "text/x-python",
            "name": "python",
            "nbconvert_exporter": "python",
            "pygments_lexer": "ipython3",
            "version": "3.6.9"
        }
    },
    "nbformat": 4,
    "nbformat_minor": 1
}